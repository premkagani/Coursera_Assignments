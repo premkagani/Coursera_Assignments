{
 "cells": [
  {
   "cell_type": "markdown",
   "id": "a245194c-0063-4326-be9e-8c5940452641",
   "metadata": {},
   "source": [
    "# Data Science Tools and Ecosystem\n"
   ]
  },
  {
   "cell_type": "markdown",
   "id": "61c98286-0056-48bf-b991-7bb6ecb32468",
   "metadata": {},
   "source": [
    "In this notebook, Data Science Tools and Ecosystem are summarized.\n",
    "\n"
   ]
  },
  {
   "cell_type": "markdown",
   "id": "224e8b39-c391-41e5-9b5f-45eae443e0a7",
   "metadata": {},
   "source": [
    "Some of the popular languages that Data Scientists use are:\n",
    "\n",
    "1. Python\n",
    "2. R\n",
    "3. SQL\n"
   ]
  },
  {
   "cell_type": "markdown",
   "id": "2ab1e92c-845c-4c23-b996-6fa8c9f6715a",
   "metadata": {},
   "source": [
    "**Objectives:**\n",
    "\n",
    "- Understand the use of R and IBM Watson in Data Science\n",
    "- List popular languages for Data Science, including Python and R\n",
    "- Identify commonly used libraries for Data Science\n",
    "- Describe various development environment open source tools for Data Science, like Jupyter Notebook\n"
   ]
  },
  {
   "cell_type": "markdown",
   "id": "1de3142c-0e4b-48af-a63f-4df1c66e7e8f",
   "metadata": {},
   "source": [
    "Some of the commonly used libraries used by Data Scientists include:\n",
    "\n",
    "1. NumPy\n",
    "2. Pandas\n",
    "3. Matplotlib\n"
   ]
  },
  {
   "cell_type": "markdown",
   "id": "2a2d8662-4b3d-4961-8348-d7ae46ec11f4",
   "metadata": {},
   "source": [
    "| Data Science Tools |\n",
    "| --- |\n",
    "| Jupyter Notebook |\n",
    "| RStudio |\n",
    "| Spyder |\n"
   ]
  },
  {
   "cell_type": "markdown",
   "id": "97affcf3-db55-4488-8f9b-adcd4af793bf",
   "metadata": {},
   "source": [
    "### Below are a few examples of evaluating arithmetic expressions in Python.\n",
    "\n",
    "Arithmetic expressions are mathematical expressions that involve arithmetic operations like addition, subtraction, multiplication, and division.\n"
   ]
  },
  {
   "cell_type": "code",
   "execution_count": 1,
   "id": "1289589a-5129-478c-8da2-29a30818794d",
   "metadata": {},
   "outputs": [
    {
     "name": "stdout",
     "output_type": "stream",
     "text": [
      "17\n"
     ]
    }
   ],
   "source": [
    "# This is a simple arithmetic expression to multiply 3 by 4 and then add 5\n",
    "result = (3 * 4) + 5\n",
    "print(result)\n"
   ]
  },
  {
   "cell_type": "code",
   "execution_count": 2,
   "id": "91dddf27-f3bf-42c0-bc49-095e4431daae",
   "metadata": {},
   "outputs": [
    {
     "name": "stdout",
     "output_type": "stream",
     "text": [
      "3.3333333333333335\n"
     ]
    }
   ],
   "source": [
    "# This will convert 200 minutes to hours by dividing by 60\n",
    "minutes = 200\n",
    "hours = (minutes / 60)\n",
    "print(hours)\n"
   ]
  },
  {
   "cell_type": "markdown",
   "id": "5ca077a1-78d9-4266-a14d-3910f123693a",
   "metadata": {},
   "source": [
    "## Author\n",
    "\n",
    " Prem Kumar Kagani\n"
   ]
  }
 ],
 "metadata": {
  "kernelspec": {
   "display_name": "Python",
   "language": "python",
   "name": "conda-env-python-py"
  },
  "language_info": {
   "codemirror_mode": {
    "name": "ipython",
    "version": 3
   },
   "file_extension": ".py",
   "mimetype": "text/x-python",
   "name": "python",
   "nbconvert_exporter": "python",
   "pygments_lexer": "ipython3",
   "version": "3.7.12"
  }
 },
 "nbformat": 4,
 "nbformat_minor": 5
}
